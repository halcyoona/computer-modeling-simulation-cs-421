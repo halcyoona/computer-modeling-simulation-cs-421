{
 "cells": [
  {
   "cell_type": "markdown",
   "metadata": {},
   "source": [
    "# RandomWalk"
   ]
  },
  {
   "cell_type": "markdown",
   "metadata": {
    "collapsed": true
   },
   "source": [
    "## Model of a random walk"
   ]
  },
  {
   "cell_type": "code",
   "execution_count": 3,
   "metadata": {},
   "outputs": [],
   "source": [
    "import numpy as np\n",
    "import matplotlib.pyplot as plt\n",
    "import matplotlib.animation as animation\n",
    "from IPython.display import HTML  # for embedded matplotlib animation\n",
    "\n",
    "import inspect  #This allows us to print the source code in this notebook.\n",
    "from RandomWalk import *  #Import the custom function from this project.\n",
    "\n",
    "n = 5  # number of steps\n",
    "data = np.array(RandomWalk(n))"
   ]
  },
  {
   "cell_type": "markdown",
   "metadata": {},
   "source": [
    "### Graph"
   ]
  },
  {
   "cell_type": "code",
   "execution_count": 4,
   "metadata": {},
   "outputs": [
    {
     "data": {
      "image/png": "[encoded data removed]",
      "text/plain": [
       "<Figure size 504x504 with 1 Axes>"
      ]
     },
     "metadata": {
      "needs_background": "light"
     },
     "output_type": "display_data"
    }
   ],
   "source": [
    "fsx=7                 #Width (in inches) for the figures.\n",
    "fsy=fsx               #Height (in inches) for the figures.\n",
    "\n",
    "plt.figure(figsize=(fsx, fsy))\n",
    "plt.plot(data[0], data[1], 'k-')\n",
    "plt.plot(data[0], data[1], 'bo')\n",
    "plt.plot([data[0,-1]], [data[1,-1]], 'ro')\n",
    "plt.title('Complete Random Walk')\n",
    "plt.show()"
   ]
  },
  {
   "cell_type": "markdown",
   "metadata": {},
   "source": [
    "### Animation"
   ]
  },
  {
   "cell_type": "code",
   "execution_count": null,
   "metadata": {},
   "outputs": [],
   "source": [
    "def update_line(num, data, line):\n",
    "    line.set_data(data[..., :num])\n",
    "    return line,"
   ]
  },
  {
   "cell_type": "code",
   "execution_count": null,
   "metadata": {},
   "outputs": [],
   "source": [
    "## Set up formatting for the movie files\n",
    "Writer = animation.writers['ffmpeg']\n",
    "writer = Writer(fps=15, metadata=dict(artist='Me'), bitrate=1800)\n",
    "\n",
    "fig1 = plt.figure()\n",
    "\n",
    "l, = plt.plot([], [], 'r-')\n",
    "\n",
    "# Set figure size so that complete walk displays\n",
    "plt.xlim(min(data[0]) - 1, max(data[0]) + 1)\n",
    "plt.ylim(min(data[1]) - 1, max(data[1]) + 1)\n",
    "plt.title('Random Walk Animation')\n",
    "# one more point (n + 1) than steps, n\n",
    "line_ani = animation.FuncAnimation(fig1, update_line, n + 1, fargs=(data, l), \n",
    "                                   interval=50, blit=False)\n",
    "\n",
    "\n",
    "# To save the animation, use the command, placed before HTML: \n",
    "line_ani.save('RandomWalk.mp4', writer=writer)\n",
    "\n",
    "HTML(line_ani.to_html5_video())"
   ]
  },
  {
   "cell_type": "markdown",
   "metadata": {},
   "source": [
    "### Display RandomWalk.py"
   ]
  },
  {
   "cell_type": "code",
   "execution_count": 8,
   "metadata": {},
   "outputs": [
    {
     "name": "stdout",
     "output_type": "stream",
     "text": [
      "def RandomWalk(n):\n",
      "\n",
      "    # determine points of path\n",
      "    x = x0 = 0\n",
      "    y = y0 = 0\n",
      "    xLst = [0] \n",
      "    yLst = [0] \n",
      "    lst = [[0, 0]]\n",
      "    for i in range(n):\n",
      "        if randrange(2) == 0:\n",
      "            x = x + 1\n",
      "        else:\n",
      "            x = x - 1\n",
      "            \n",
      "        if randrange(2) == 0:\n",
      "            y = y + 1\n",
      "        else:\n",
      "            y = y - 1\n",
      "\n",
      "        xLst.append(x)\n",
      "        yLst.append(y)\n",
      "        lst.append([x, y])\n",
      "        \n",
      "    return [xLst, yLst]\n",
      "\n"
     ]
    }
   ],
   "source": [
    "print(inspect.getsource(RandomWalk))"
   ]
  },
  {
   "cell_type": "markdown",
   "metadata": {},
   "source": [
    "## Average distance between first and last points of 100 random walks, where steps are made on the diagonal"
   ]
  },
  {
   "cell_type": "code",
   "execution_count": 14,
   "metadata": {},
   "outputs": [
    {
     "data": {
      "text/plain": [
       "6.4114148574932255"
      ]
     },
     "execution_count": 14,
     "metadata": {},
     "output_type": "execute_result"
    }
   ],
   "source": [
    "from RandomWalkAvg import *  #Import the custom function from this project.\n",
    "RandomWalkAvg(100)"
   ]
  },
  {
   "cell_type": "code",
   "execution_count": null,
   "metadata": {},
   "outputs": [],
   "source": [
    "print(inspect.getsource(RandomWalkAvg))"
   ]
  },
  {
   "cell_type": "markdown",
   "metadata": {},
   "source": [
    "## Average distances traveled in 100 random walks of n steps, where n varies from 1 to 50"
   ]
  },
  {
   "cell_type": "code",
   "execution_count": 22,
   "metadata": {},
   "outputs": [],
   "source": [
    "from RandomWalkAvgManyTimes import *  #Import the custom function from this project.\n",
    "data = np.array(RandomWalkAvgManyTimes())"
   ]
  },
  {
   "cell_type": "code",
   "execution_count": 23,
   "metadata": {},
   "outputs": [
    {
     "data": {
      "image/png": "[encoded data removed]",
      "text/plain": [
       "<Figure size 504x311.489 with 1 Axes>"
      ]
     },
     "metadata": {
      "needs_background": "light"
     },
     "output_type": "display_data"
    }
   ],
   "source": [
    "goldenratio=1/2*(1+sqrt(5))\n",
    "fsx=7                 #Width (in inches) for the figures.\n",
    "fsy=fsx/goldenratio   #Height (in inches) for the figures.\n",
    "\n",
    "plt.figure(figsize=(fsx, fsy))\n",
    "plt.plot(range(1, 51), data, 'ko')\n",
    "plt.xlabel('Distance')\n",
    "plt.ylabel('Number of steps')\n",
    "plt.title('Average Random-Walk Distances')\n",
    "plt.show()"
   ]
  },
  {
   "cell_type": "code",
   "execution_count": 19,
   "metadata": {},
   "outputs": [
    {
     "name": "stdout",
     "output_type": "stream",
     "text": [
      "def RandomWalkAvgManyTimes():\n",
      "    # determine points of path\n",
      "    numTests = 100  # number of runs\n",
      "    x0 = 0\n",
      "    y0 = 0\n",
      "    listDist = []  # list of distances\n",
      "    for n in range(1, 51):\n",
      "        sumDist = 0    # sum of distances\n",
      "        for j in range(numTests):\n",
      "            x = x0\n",
      "            y = y0\n",
      "            for i in range(n):\n",
      "                if randrange(2) == 0:\n",
      "                    x = x + 1\n",
      "                else:\n",
      "                    x = x - 1\n",
      "                    \n",
      "                if randrange(2) == 0:\n",
      "                    y = y + 1\n",
      "                else:\n",
      "                    y = y - 1\n",
      "            sumDist = sumDist + sqrt((x - x0)**2 + (y - y0)**2)\n",
      "\n",
      "        listDist.append(sumDist/numTests)\n",
      "\n",
      "    return listDist\n",
      "\n"
     ]
    }
   ],
   "source": [
    "print(inspect.getsource(RandomWalkAvgManyTimes))"
   ]
  },
  {
   "cell_type": "code",
   "execution_count": 27,
   "metadata": {},
   "outputs": [],
   "source": [
    "def RandomWalkAvgManyTimes():\n",
    "    # determine points of path\n",
    "    numTests = 10000  # number of runs\n",
    "    x0 = 0\n",
    "    y0 = 0\n",
    "    listDist = []  # list of distances\n",
    "    for n in range(1, 51):\n",
    "        sumDist = 0    # sum of distances\n",
    "        for j in range(numTests):\n",
    "            x = x0\n",
    "            y = y0\n",
    "            for i in range(n):\n",
    "                if randrange(2) == 0:\n",
    "                    x = x + 1\n",
    "                else:\n",
    "                    x = x - 1\n",
    "                    \n",
    "                if randrange(2) == 0:\n",
    "                    y = y + 1\n",
    "                else:\n",
    "                    y = y - 1\n",
    "            sumDist = sumDist + sqrt((x - x0)**2 + (y - y0)**2)\n",
    "\n",
    "        listDist.append(sumDist/numTests)\n",
    "\n",
    "    return listDist"
   ]
  },
  {
   "cell_type": "code",
   "execution_count": 28,
   "metadata": {},
   "outputs": [
    {
     "data": {
      "image/png": "[encoded data removed]",
      "text/plain": [
       "<Figure size 504x311.489 with 1 Axes>"
      ]
     },
     "metadata": {
      "needs_background": "light"
     },
     "output_type": "display_data"
    }
   ],
   "source": [
    "data = np.array(RandomWalkAvgManyTimes())\n",
    "goldenratio=1/2*(1+sqrt(5))\n",
    "fsx=7                 #Width (in inches) for the figures.\n",
    "fsy=fsx/goldenratio   #Height (in inches) for the figures.\n",
    "\n",
    "plt.figure(figsize=(fsx, fsy))\n",
    "plt.plot(range(1, 51), data, 'ko')\n",
    "plt.xlabel('Distance')\n",
    "plt.ylabel('Number of steps')\n",
    "plt.title('Average Random-Walk Distances')\n",
    "plt.show()"
   ]
  },
  {
   "cell_type": "code",
   "execution_count": 40,
   "metadata": {},
   "outputs": [
    {
     "data": {
      "text/plain": [
       "479"
      ]
     },
     "execution_count": 40,
     "metadata": {},
     "output_type": "execute_result"
    }
   ],
   "source": [
    "(467 * 69) % 1024"
   ]
  },
  {
   "cell_type": "code",
   "execution_count": 43,
   "metadata": {},
   "outputs": [
    {
     "data": {
      "text/plain": [
       "0.4677734375"
      ]
     },
     "execution_count": 43,
     "metadata": {},
     "output_type": "execute_result"
    }
   ],
   "source": [
    "479 / 1024"
   ]
  },
  {
   "cell_type": "code",
   "execution_count": null,
   "metadata": {},
   "outputs": [],
   "source": []
  }
 ],
 "metadata": {
  "kernelspec": {
   "display_name": "Python 3",
   "language": "python",
   "name": "python3"
  },
  "language_info": {
   "codemirror_mode": {
    "name": "ipython",
    "version": 3
   },
   "file_extension": ".py",
   "mimetype": "text/x-python",
   "name": "python",
   "nbconvert_exporter": "python",
   "pygments_lexer": "ipython3",
   "version": "3.7.7"
  }
 },
 "nbformat": 4,
 "nbformat_minor": 2
}
