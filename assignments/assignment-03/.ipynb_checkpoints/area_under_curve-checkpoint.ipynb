{
 "cells": [
  {
   "cell_type": "code",
   "execution_count": 5,
   "metadata": {},
   "outputs": [
    {
     "name": "stdout",
     "output_type": "stream",
     "text": [
      "Part (a) Area under the curve = 0.35129866438420054\n"
     ]
    }
   ],
   "source": [
    "import math\n",
    "import random\n",
    "\n",
    "# define any function here!\n",
    "def f(x):\n",
    "    return math.sqrt((math.cos(x) ** 2) + 1)\n",
    "\n",
    "# define any xmin-xmax interval here! (xmin < xmax)\n",
    "xmin = 0\n",
    "xmax = 2.0\n",
    "\n",
    "# find ymin-ymax\n",
    "numSteps = 1000000 # bigger the better but slower!\n",
    "ymin = f(xmin)\n",
    "ymax = ymin\n",
    "for i in range(numSteps):\n",
    "    x = xmin + (xmax - xmin) * float(i) / numSteps\n",
    "    y = f(x)\n",
    "    if y < ymin: ymin = y\n",
    "    if y > ymax: ymax = y\n",
    "\n",
    "# Monte Carlo\n",
    "rectArea = (xmax - xmin) * (ymax - ymin)\n",
    "numPoints = 1000000 # bigger the better but slower!\n",
    "ctr = 0\n",
    "for j in range(numPoints):\n",
    "    x = xmin + (xmax - xmin) * random.random()\n",
    "    y = ymin + (ymax - ymin) * random.random()\n",
    "    if f(x) > 0 and y > 0 and y <= f(x):\n",
    "        ctr += 1\n",
    "    if f(x) < 0 and y < 0 and y >= f(x):\n",
    "        ctr += 1\n",
    "\n",
    "fnArea = rectArea * float(ctr) / numPoints\n",
    "print (\"Part (a) Area under the curve = \" + str(fnArea))"
   ]
  },
  {
   "cell_type": "code",
   "execution_count": 8,
   "metadata": {},
   "outputs": [
    {
     "name": "stdout",
     "output_type": "stream",
     "text": [
      "Part (b) Area under the curve = 0.4617266406503605\n"
     ]
    }
   ],
   "source": [
    "\n",
    "# define any function here!\n",
    "def f(x):\n",
    "    return (math.e ** (x**2)) \n",
    "\n",
    "# define any xmin-xmax interval here! (xmin < xmax)\n",
    "xmin = 0\n",
    "xmax = 1.0\n",
    "\n",
    "# find ymin-ymax\n",
    "numSteps = 1000000 # bigger the better but slower!\n",
    "ymin = f(xmin)\n",
    "ymax = ymin\n",
    "for i in range(numSteps):\n",
    "    x = xmin + (xmax - xmin) * float(i) / numSteps\n",
    "    y = f(x)\n",
    "    if y < ymin: ymin = y\n",
    "    if y > ymax: ymax = y\n",
    "\n",
    "# Monte Carlo\n",
    "rectArea = (xmax - xmin) * (ymax - ymin)\n",
    "numPoints = 1000000 # bigger the better but slower!\n",
    "ctr = 0\n",
    "for j in range(numPoints):\n",
    "    x = xmin + (xmax - xmin) * random.random()\n",
    "    y = ymin + (ymax - ymin) * random.random()\n",
    "    if f(x) > 0 and y > 0 and y <= f(x):\n",
    "        ctr += 1\n",
    "    if f(x) < 0 and y < 0 and y >= f(x):\n",
    "        ctr += 1\n",
    "\n",
    "fnArea = rectArea * float(ctr) / numPoints\n",
    "print (\"Part (b) Area under the curve = \" + str(fnArea))"
   ]
  },
  {
   "cell_type": "code",
   "execution_count": 11,
   "metadata": {},
   "outputs": [
    {
     "name": "stdout",
     "output_type": "stream",
     "text": [
      "Part (d) Area under the curve = 4.852767999971026\n"
     ]
    }
   ],
   "source": [
    "# define any function here!\n",
    "def f(x):\n",
    "    return (math.sin(x ** 2))\n",
    "\n",
    "# define any xmin-xmax interval here! (xmin < xmax)\n",
    "xmin = 0\n",
    "xmax = 8.0\n",
    "\n",
    "# find ymin-ymax\n",
    "numSteps = 1000000 # bigger the better but slower!\n",
    "ymin = f(xmin)\n",
    "ymax = ymin\n",
    "for i in range(numSteps):\n",
    "    x = xmin + (xmax - xmin) * float(i) / numSteps\n",
    "    y = f(x)\n",
    "    if y < ymin: ymin = y\n",
    "    if y > ymax: ymax = y\n",
    "\n",
    "# Monte Carlo\n",
    "rectArea = (xmax - xmin) * (ymax - ymin)\n",
    "numPoints = 1000000 # bigger the better but slower!\n",
    "ctr = 0\n",
    "for j in range(numPoints):\n",
    "    x = xmin + (xmax - xmin) * random.random()\n",
    "    y = ymin + (ymax - ymin) * random.random()\n",
    "    if f(x) > 0 and y > 0 and y <= f(x):\n",
    "        ctr += 1\n",
    "    if f(x) < 0 and y < 0 and y >= f(x):\n",
    "        ctr += 1\n",
    "\n",
    "fnArea = rectArea * float(ctr) / numPoints\n",
    "print (\"Part (d) Area under the curve = \" + str(fnArea))"
   ]
  },
  {
   "cell_type": "code",
   "execution_count": 100,
   "metadata": {},
   "outputs": [],
   "source": []
  },
  {
   "cell_type": "code",
   "execution_count": null,
   "metadata": {},
   "outputs": [],
   "source": []
  },
  {
   "cell_type": "code",
   "execution_count": 98,
   "metadata": {},
   "outputs": [],
   "source": []
  },
  {
   "cell_type": "code",
   "execution_count": null,
   "metadata": {},
   "outputs": [],
   "source": []
  },
  {
   "cell_type": "code",
   "execution_count": null,
   "metadata": {},
   "outputs": [],
   "source": []
  }
 ],
 "metadata": {
  "kernelspec": {
   "display_name": "Python 3",
   "language": "python",
   "name": "python3"
  },
  "language_info": {
   "codemirror_mode": {
    "name": "ipython",
    "version": 3
   },
   "file_extension": ".py",
   "mimetype": "text/x-python",
   "name": "python",
   "nbconvert_exporter": "python",
   "pygments_lexer": "ipython3",
   "version": "3.7.7"
  }
 },
 "nbformat": 4,
 "nbformat_minor": 4
}
