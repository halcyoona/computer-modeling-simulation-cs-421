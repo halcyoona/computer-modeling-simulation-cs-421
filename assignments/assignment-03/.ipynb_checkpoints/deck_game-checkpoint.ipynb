{
 "cells": [
  {
   "cell_type": "code",
   "execution_count": 56,
   "metadata": {},
   "outputs": [],
   "source": [
    "import random\n",
    "import sys\n",
    "import math\n",
    "\n",
    "\n",
    "class Card:\n",
    "    suits = ['\\u2666', '\\u2665', '\\u2663', '\\u2660']  # [\"Clubs\", \"Diamonds\", \"Hearts\", \"Spades\"]\n",
    "    ranks = [\"2\", \"3\", \"4\", \"5\", \"6\", \"7\", \"8\", \"9\", \"10\", \"J\", \"Q\", \"K\", \"A\"]\n",
    "\n",
    "    def __init__(self, suit=0, rank=0):\n",
    "        \"\"\"Default constructor \"\"\"\n",
    "        self.suit = suit\n",
    "        self.rank = rank\n",
    "\n",
    "    def __str__(self):\n",
    "        \"\"\"Returns a human-readable string representation \"\"\"\n",
    "        return '%s %s' % (Card.suits[self.suit], Card.ranks[self.rank])\n",
    "        # return '%s of %s' % (Card.rank_names[self.rank], Card.suit_names[self.suit])\n",
    "\n",
    "    def __lt__(self, other):\n",
    "        \"\"\"Overriding < operator \"\"\"\n",
    "        t1 = self.rank, self.suit\n",
    "        t2 = other.rank, other.suit\n",
    "        return t1 < t2\n",
    "\n",
    "\n",
    "class Deck:\n",
    "    def __init__(self):\n",
    "        \"\"\"Initializes the Deck with 52 cards.\"\"\"\n",
    "        self.cards = []\n",
    "        for suit in range(4):\n",
    "            for rank in range(13):\n",
    "                card = Card(suit, rank)\n",
    "                self.cards.append(card)\n",
    "        self.shuffle()\n",
    "\n",
    "    def __str__(self):\n",
    "        \"\"\"Returns a string representation of the deck.\"\"\"\n",
    "        res = []\n",
    "        for card in self.cards:\n",
    "            res.append(str(card))\n",
    "        return ', '.join(res)\n",
    "\n",
    "    def __len__(self):\n",
    "        \"\"\"Overriding len operator\"\"\"\n",
    "        return len(self.cards)\n",
    "\n",
    "    def add_card(self, card):\n",
    "        \"\"\"Adds a card to the deck.\"\"\"\n",
    "        self.cards.append(card)\n",
    "\n",
    "    def pop_card(self, i=-1):\n",
    "        \"\"\"Removes and returns a card from the deck.\n",
    "        i: index of the card to pop; by default, pops the last card.\n",
    "        \"\"\"\n",
    "        return self.cards[i]\n",
    "\n",
    "    def shuffle(self):\n",
    "        \"\"\"Shuffles the cards in this deck.\"\"\"\n",
    "        random.shuffle(self.cards)\n",
    "\n",
    "    def sort(self):\n",
    "        \"\"\"Sorts the cards in ascending order.\"\"\"\n",
    "        self.cards.sort()\n",
    "\n",
    "    def wincard(self, cards):\n",
    "        \"\"\"Get the highest winner card from list\"\"\"\n",
    "        winner = cards[0]\n",
    "        for card in cards:\n",
    "            if winner < card:\n",
    "                winner = card\n",
    "        return winner\n",
    "\n",
    "\n",
    "\n",
    "def play_part_a(n):\n",
    "    deck = Deck()  # initialize deck\n",
    "    steps = n\n",
    "    count = 0\n",
    "    while steps > 0:\n",
    "        random_number = random.randint(0,51)\n",
    "        obj1 = deck.pop_card(random_number)\n",
    "        if random_number+1 > 50:\n",
    "            random_number = -1\n",
    "        obj2 = deck.pop_card(random_number+1)# remove card from deck and add to hand\n",
    "        \n",
    "        \n",
    "        if obj1.rank == 10 and obj2.rank == obj1.rank:\n",
    "            count += 1\n",
    "        steps -= 1\n",
    "#     print(\"The probability that at least two queens will appear next to each other in the shuffled deck is: \"+ str(count / n))\n",
    "    return count / n\n",
    "\n",
    "    "
   ]
  },
  {
   "cell_type": "code",
   "execution_count": 48,
   "metadata": {},
   "outputs": [
    {
     "data": {
      "text/plain": [
       "0.0"
      ]
     },
     "execution_count": 48,
     "metadata": {},
     "output_type": "execute_result"
    }
   ],
   "source": [
    "play_part_a(1000)"
   ]
  },
  {
   "cell_type": "code",
   "execution_count": 53,
   "metadata": {},
   "outputs": [],
   "source": [
    "def play_part_b(n):\n",
    "    deck = Deck()  # initialize deck\n",
    "    steps = n\n",
    "    \n",
    "    count = 0\n",
    "    while steps > 0:\n",
    "        random_number = random.randint(0,51)\n",
    "        obj1 = deck.pop_card(random_number)\n",
    "        if random_number+2 > 50:\n",
    "            random_number = -2\n",
    "        \n",
    "        if random_number-2 < 0:\n",
    "            random_number = +2\n",
    "        \n",
    "        obj2 = deck.pop_card(random_number+1)# remove card from deck and add to hand\n",
    "        obj3 = deck.pop_card(random_number+2)\n",
    "        obj4 = deck.pop_card(random_number-1)\n",
    "        obj5 = deck.pop_card(random_number-2)\n",
    "        \n",
    "        if obj1.rank == 10 or obj1.rank == 11:\n",
    "            if obj2.rank == 10 or obj2.rank == 11:\n",
    "                count += 1\n",
    "            if obj3.rank == 10 or obj3.rank == 11:\n",
    "                count += 1\n",
    "            if obj4.rank == 10 or obj4.rank == 11:\n",
    "                count += 1\n",
    "            if obj5.rank == 10 or obj5.rank == 11:\n",
    "                count += 1\n",
    "        steps -= 1\n",
    "#     print(\"The probability that at least one king and one queen appear next to each other or one card away in the shuffled deck.: \"+ str(count / n))\n",
    "    return count / n\n",
    "\n",
    "    "
   ]
  },
  {
   "cell_type": "code",
   "execution_count": 41,
   "metadata": {},
   "outputs": [
    {
     "data": {
      "text/plain": [
       "0.087"
      ]
     },
     "execution_count": 41,
     "metadata": {},
     "output_type": "execute_result"
    }
   ],
   "source": [
    "play_part_b(1000)"
   ]
  },
  {
   "cell_type": "code",
   "execution_count": 54,
   "metadata": {},
   "outputs": [
    {
     "data": {
      "image/png": "[encoded data removed]",
      "text/plain": [
       "<Figure size 504x311.489 with 1 Axes>"
      ]
     },
     "metadata": {
      "needs_background": "light"
     },
     "output_type": "display_data"
    }
   ],
   "source": [
    "num_of_times = []\n",
    "prob = []\n",
    "for i in range(10):\n",
    "    num_of_times.append(i)\n",
    "    prob.append(play_part_a(1000))\n",
    "    \n",
    "    \n",
    "#This code performs the necessary steps to prepare to plot.\n",
    "from pylab import *     #Import plotting module matplotlib as well as other modules\n",
    "                        #into the global namespace.\n",
    "\n",
    "\n",
    "goldenratio=1/2*(1+math.sqrt(5))        #The next few lines are used for the size of plots\n",
    "fsx=7                              #Width (in inches) for the figures.\n",
    "fsy=fsx/goldenratio  \n",
    "figure(figsize=(fsx, fsy))\n",
    "plot(num_of_times, prob, 'b-', label='at least two queens')\n",
    "legend(loc='upper center')\n",
    "xlabel('Number of times')\n",
    "ylabel('Probability')\n",
    "title('Card Game')\n",
    "show()"
   ]
  },
  {
   "cell_type": "code",
   "execution_count": 57,
   "metadata": {},
   "outputs": [
    {
     "data": {
      "image/png": "[encoded data removed]",
      "text/plain": [
       "<Figure size 504x311.489 with 1 Axes>"
      ]
     },
     "metadata": {
      "needs_background": "light"
     },
     "output_type": "display_data"
    }
   ],
   "source": [
    "num_of_times = []\n",
    "prob = []\n",
    "for i in range(10):\n",
    "    num_of_times.append(i)\n",
    "    prob.append(play_part_b(1000))\n",
    "    \n",
    "      \n",
    "figure(figsize=(fsx, fsy))\n",
    "plot(num_of_times, prob, 'b-', label='one king and queen')\n",
    "legend(loc='upper center')\n",
    "xlabel('Number of times')\n",
    "ylabel('Probability')\n",
    "title('Card Game')\n",
    "show()"
   ]
  },
  {
   "cell_type": "code",
   "execution_count": null,
   "metadata": {},
   "outputs": [],
   "source": []
  }
 ],
 "metadata": {
  "kernelspec": {
   "display_name": "Python 3",
   "language": "python",
   "name": "python3"
  },
  "language_info": {
   "codemirror_mode": {
    "name": "ipython",
    "version": 3
   },
   "file_extension": ".py",
   "mimetype": "text/x-python",
   "name": "python",
   "nbconvert_exporter": "python",
   "pygments_lexer": "ipython3",
   "version": "3.7.7"
  }
 },
 "nbformat": 4,
 "nbformat_minor": 4
}
